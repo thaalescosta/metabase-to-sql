{
 "cells": [
  {
   "cell_type": "code",
   "execution_count": null,
   "metadata": {},
   "outputs": [],
   "source": [
    "from datetime import date, timedelta\n",
    "from _functions.functions import get_all_reports, clean_all_data\n",
    "from _functions.functions import engine\n",
    "\n",
    "start_date = \"2024-08-01\" \n",
    "end_date = (date.today() - timedelta(days=1)).strftime(\"%Y-%m-%d\")\n",
    "\n",
    "report_dfs = get_all_reports(start_date, end_date)\n",
    "\n",
    "users_df = report_dfs[\"user_reports\"]\n",
    "trading_df = report_dfs[\"trading_reports\"]\n",
    "deposit_df = report_dfs[\"deposit_reports\"]\n",
    "\n",
    "\n",
    "users_df.to_parquet('users_df_clean.parquet', compression='snappy', index=False)\n",
    "trading_df.to_parquet('trading_df_clean.parquet', compression='snappy', index=False)\n",
    "deposit_df.to_parquet('deposit_df_clean.parquet', compression='snappy', index=False)\n",
    "\n",
    "# users_df.to_sql(name='users',con=engine, if_exists='replace', index=False, method='multi', chunksize=5000)\n",
    "# trading_df.to_sql(name='trades', con=engine, if_exists='append', index=False, method='multi', chunksize=5000)\n",
    "# deposit_df.to_sql(name='deposits', con=engine, if_exists='append', index=False, method='multi', chunksize=5000)\n",
    "# trading_df.to_sql(name='trades', con=engine, if_exists='append', index=False, dtype=trades_types, method='multi', chunksize=15000)\n",
    "# users_df.to_sql(name='users',con=engine, if_exists='replace', index=False, dtype=users_types, method='multi', chunksize=15000)\n",
    "# deposit_df.to_sql(name='deposits', con=engine, if_exists='append', index=False, dtype=deposits_types, method='multi', chunksize=15000)"
   ]
  },
  {
   "cell_type": "code",
   "execution_count": null,
   "metadata": {},
   "outputs": [],
   "source": [
    "users_df.to_sql(name='users',con=engine, if_exists='replace', index=False, method='multi', chunksize=5000)\n",
    "trading_df.to_sql(name='trades', con=engine, if_exists='append', index=False, method='multi', chunksize=5000)\n",
    "deposit_df.to_sql(name='deposits', con=engine, if_exists='append', index=False, method='multi', chunksize=5000)"
   ]
  }
 ],
 "metadata": {
  "kernelspec": {
   "display_name": ".venv",
   "language": "python",
   "name": "python3"
  },
  "language_info": {
   "codemirror_mode": {
    "name": "ipython",
    "version": 3
   },
   "file_extension": ".py",
   "mimetype": "text/x-python",
   "name": "python",
   "nbconvert_exporter": "python",
   "pygments_lexer": "ipython3",
   "version": "3.13.3"
  }
 },
 "nbformat": 4,
 "nbformat_minor": 2
}
