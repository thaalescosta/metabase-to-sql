{
 "cells": [
  {
   "cell_type": "code",
   "execution_count": 5,
   "metadata": {},
   "outputs": [
    {
     "name": "stdout",
     "output_type": "stream",
     "text": [
      "\n",
      "Fetching trading in 60 chunks\n"
     ]
    },
    {
     "name": "stderr",
     "output_type": "stream",
     "text": [
      "Downloading: 100%|██████████| 60/60 [35:06<00:00, 35.11s/it]\n"
     ]
    },
    {
     "name": "stdout",
     "output_type": "stream",
     "text": [
      "Final dataset: 9,113,980 records\n",
      "\n",
      "Fetching deposits in 60 chunks\n"
     ]
    },
    {
     "name": "stderr",
     "output_type": "stream",
     "text": [
      "Downloading: 100%|██████████| 60/60 [03:36<00:00,  3.61s/it]\n"
     ]
    },
    {
     "name": "stdout",
     "output_type": "stream",
     "text": [
      "Final dataset: 169,067 records\n",
      "\n",
      "Fetching users in 10 chunks\n"
     ]
    },
    {
     "name": "stderr",
     "output_type": "stream",
     "text": [
      "Downloading: 100%|██████████| 10/10 [05:02<00:00, 30.22s/it]\n"
     ]
    },
    {
     "name": "stdout",
     "output_type": "stream",
     "text": [
      "Final dataset contains 120.720 records\n"
     ]
    },
    {
     "data": {
      "text/plain": [
       "169067"
      ]
     },
     "execution_count": 5,
     "metadata": {},
     "output_type": "execute_result"
    }
   ],
   "source": [
    "from datetime import date, timedelta\n",
    "from _functions.functions import get_all_reports\n",
    "from _functions.functions import engine\n",
    "\n",
    "start_date = \"2024-08-01\" \n",
    "end_date = (date.today() - timedelta(days=1)).strftime(\"%Y-%m-%d\")\n",
    "report_dfs = get_all_reports(start_date, end_date)\n",
    "\n",
    "users_df = report_dfs[\"user_reports\"]\n",
    "trading_df = report_dfs[\"trading_reports\"]\n",
    "deposit_df = report_dfs[\"deposit_reports\"]\n",
    "\n",
    "users_df.to_parquet('users_df_clean.parquet', compression='snappy', index=False)\n",
    "trading_df.to_parquet('trading_df_clean.parquet', compression='snappy', index=False)\n",
    "deposit_df.to_parquet('deposit_df_clean.parquet', compression='snappy', index=False)\n",
    "\n",
    "users_df.to_sql(name='users',con=engine, if_exists='replace', index=False, method='multi', chunksize=7000)\n",
    "trading_df.to_sql(name='trades', con=engine, if_exists='replace', index=False, method='multi', chunksize=7000)\n",
    "deposit_df.to_sql(name='deposits', con=engine, if_exists='replace', index=False, method='multi', chunksize=7000)"
   ]
  }
 ],
 "metadata": {
  "kernelspec": {
   "display_name": ".venv",
   "language": "python",
   "name": "python3"
  },
  "language_info": {
   "codemirror_mode": {
    "name": "ipython",
    "version": 3
   },
   "file_extension": ".py",
   "mimetype": "text/x-python",
   "name": "python",
   "nbconvert_exporter": "python",
   "pygments_lexer": "ipython3",
   "version": "3.13.3"
  }
 },
 "nbformat": 4,
 "nbformat_minor": 2
}
