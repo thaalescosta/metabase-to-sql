{
 "cells": [
  {
   "cell_type": "markdown",
   "metadata": {},
   "source": [
    "### **AFFILIATES TABLE**"
   ]
  },
  {
   "cell_type": "code",
   "execution_count": null,
   "metadata": {},
   "outputs": [],
   "source": [
    "cookie = \"admin_ssid=1c2993e8-f705-4550-b72c-ead9da807d6e\"\n",
    "csv_path = r\"C:\\Users\\Thales\\OneDrive\\Polarium\\Dashboards\\Data Sources\"\n",
    "\n",
    "path_user_base = os.path.join(csv_path, \"user_base.csv\")\n",
    "path_aff_data = os.path.join(csv_path, \"aff_data.csv\")\n",
    "\n",
    "\n",
    "from aff_functions.user_base import fetch_affiliate_table, parse_user_data, json_normalize, clean_dataframe, pd\n",
    "from aff_functions.aff_data import fetch_all_months_data, parse_quadcode_data, clean_quadcode_dataframe\n",
    "import os"
   ]
  },
  {
   "cell_type": "code",
   "execution_count": null,
   "metadata": {},
   "outputs": [],
   "source": [
    "raw_data = fetch_affiliate_table(cookie)\n",
    "\n",
    "parsed_data = parse_quadcode_data(raw_data)\n",
    "df_normalized = json_normalize(parsed_data)\n",
    "df_final = clean_dataframe(df_normalized)\n",
    "\n",
    "df_final.to_csv()\n"
   ]
  },
  {
   "cell_type": "markdown",
   "metadata": {},
   "source": [
    "### **AFFILIATES DATA**"
   ]
  },
  {
   "cell_type": "code",
   "execution_count": null,
   "metadata": {},
   "outputs": [],
   "source": [
    "raw_data = fetch_all_months_data(cookie, start_date_str=\"2024-10-01\", end_date_str=\"2025-05-31\")\n",
    "\n",
    "parsed_data = parse_quadcode_data(raw_data)\n",
    "df_normalized = json_normalize(parsed_data)\n",
    "df_final = clean_quadcode_dataframe(df_normalized)\n",
    "\n",
    "# print(f\"Final clean DataFrame shape: {df_final.shape}\")\n",
    "# print(f\"Columns: {list(df_final.columns)}\")\n",
    "\n",
    "# Display the result\n",
    "print(\"\\nFirst 10 rows:\")\n",
    "print(df_final.head(10))\n",
    "\n",
    "# Show month breakdown\n",
    "if 'Month' in df_final.columns:\n",
    "    print(f\"\\nData by month:\")\n",
    "    month_summary = df_final.groupby('Month').agg({\n",
    "        'Affiliate': 'nunique',\n",
    "        'Deposit count': 'sum',\n",
    "        'Deposit sum': 'sum',\n",
    "        'PNL': 'sum'\n",
    "    }).round(2)\n",
    "    print(month_summary)\n",
    "\n",
    "# Save to CSV\n",
    "df_final.to_csv(\"quadcode_roi_monthly_complete.csv\", index=False)\n",
    "print(f\"\\nSaved {len(df_final)} records to quadcode_roi_monthly_complete.csv\")\n",
    "\n",
    "# Display summary\n",
    "print(f\"\\nOverall Summary:\")\n",
    "print(f\"Total affiliates: {df_final['Affiliate'].nunique() if 'Affiliate' in df_final.columns else 'N/A'}\")\n",
    "print(f\"Total deposits: {df_final['Deposit count'].sum() if 'Deposit count' in df_final.columns else 'N/A'}\")\n",
    "print(f\"Total deposit amount: ${df_final['Deposit sum'].sum():.2f}\" if 'Deposit sum' in df_final.columns else 'N/A')\n",
    "print(f\"Total PNL: ${df_final['PNL'].sum():.2f}\" if 'PNL' in df_final.columns else 'N/A')\n",
    "\n",
    "# Example: Filter data for a specific month\n",
    "# december_2024 = df_final[df_final['Month'] == '2024-12']\n",
    "# print(f\"December 2024 data: {len(december_2024)} records\")\n"
   ]
  }
 ],
 "metadata": {
  "kernelspec": {
   "display_name": ".venv",
   "language": "python",
   "name": "python3"
  },
  "language_info": {
   "codemirror_mode": {
    "name": "ipython",
    "version": 3
   },
   "file_extension": ".py",
   "mimetype": "text/x-python",
   "name": "python",
   "nbconvert_exporter": "python",
   "pygments_lexer": "ipython3",
   "version": "3.13.3"
  }
 },
 "nbformat": 4,
 "nbformat_minor": 2
}
